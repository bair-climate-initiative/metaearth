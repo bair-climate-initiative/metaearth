{
    "cells": [
        {
            "cell_type": "code",
            "execution_count": 1,
            "metadata": {},
            "outputs": [],
            "source": ["%load_ext autoreload\n", "%autoreload 2"],
        },
        {
            "cell_type": "code",
            "execution_count": 2,
            "metadata": {},
            "outputs": [],
            "source": [
                "import numpy as np\n",
                "import pandas as pd\n",
                "import matplotlib.pyplot as plt\n",
                "import os\n",
                "import subprocess\n",
                "import shapely.geometry\n",
                "from multiearth.provider.metloom import *\n",
                "from omegaconf import OmegaConf\n",
                "from multiearth.api import _initialize_providers\n",
                "\n",
                'os.chdir("..")',
            ],
        },
        {
            "cell_type": "code",
            "execution_count": 3,
            "metadata": {},
            "outputs": [],
            "source": [
                "config_file = 'config/metloom.yaml'\n",
                "schema: ConfigSchema = OmegaConf.structured(ConfigSchema)\n",
                "incfg = OmegaConf.load(config_file)\n",
                "cfg: Any = OmegaConf.merge(schema, incfg)",
            ],
        },
        {
            "cell_type": "code",
            "execution_count": 4,
            "metadata": {},
            "outputs": [],
            "source": [
                "triplet = '1032:CO:SNTL'\n",
                "aoi_file = 'config/aoi/aso-2013-2019-regions.json'\n",
                "region = gpd.read_file(aoi_file)\n",
            ],
        },
        {
            "cell_type": "code",
            "execution_count": 5,
            "metadata": {},
            "outputs": [
                {
                    "name": "stderr",
                    "output_type": "stream",
                    "text": [
                        "2022-09-18 22:42:18.971 | INFO     | metaearth.api:_initialize_providers:59 - Extraction details for provider ProviderKey.METLOOM with collection SNOTEL: \n",
                        "id: SNOTEL\n",
                        "assets:\n",
                        "- SWE\n",
                        "- AIR TEMP\n",
                        "outdir: data/snotel_land_cover_north_america\n",
                        "datetime: 2017-04-01/2021-04-23\n",
                        "aoi_file: config/aoi/demo_landcover.json\n",
                        "max_items: 3\n",
                        "\n",
                    ],
                }
            ],
            "source": ["mp = _initialize_providers(cfg)[0]"],
        },
        {
            "cell_type": "code",
            "execution_count": 6,
            "metadata": {},
            "outputs": [
                {
                    "name": "stderr",
                    "output_type": "stream",
                    "text": [
                        "2022-09-18 22:42:19.252 | INFO     | metaearth.provider.metloom:extract_assets:390 - Extracting assets '[SensorDescription(code='WTEQ', name='SWE', description=None, accumulated=False), SensorDescription(code='TOBS', name='AIR TEMP', description=None, accumulated=False)]' for SNOTEL\n",
                        "2022-09-18 22:42:28.723 | INFO     | metaearth.provider.metloom:extract_assets:410 - Region to items took 0.1578 minutes\n",
                    ],
                },
                {
                    "name": "stdout",
                    "output_type": "stream",
                    "text": [
                        "<class 'metloom.pointdata.base.PointDataCollection'> <metloom.pointdata.base.PointDataCollection object at 0x7f7a8dbfdd60>\n"
                    ],
                },
            ],
            "source": ["assets = mp.extract_assets(dry_run=True)"],
        },
        {
            "cell_type": "code",
            "execution_count": 7,
            "metadata": {},
            "outputs": [
                {
                    "data": {"text/plain": ["True"]},
                    "execution_count": 7,
                    "metadata": {},
                    "output_type": "execute_result",
                }
            ],
            "source": ["assets"],
        },
        {
            "cell_type": "code",
            "execution_count": 8,
            "metadata": {},
            "outputs": [
                {
                    "data": {"text/plain": ["{}"]},
                    "execution_count": 8,
                    "metadata": {},
                    "output_type": "execute_result",
                }
            ],
            "source": ["mp._data"],
        },
        {
            "cell_type": "code",
            "execution_count": 9,
            "metadata": {},
            "outputs": [],
            "source": [
                "os.makedirs(f\"{cfg['providers'][0]['collections'][0]['outdir']}\", exist_ok=True)"
            ],
        },
        {
            "cell_type": "code",
            "execution_count": null,
            "metadata": {},
            "outputs": [],
            "source": [],
        },
    ],
    "metadata": {
        "kernelspec": {
            "display_name": "Python 3.8.2 ('metaearth')",
            "language": "python",
            "name": "python3",
        },
        "language_info": {
            "codemirror_mode": {"name": "ipython", "version": 3},
            "file_extension": ".py",
            "mimetype": "text/x-python",
            "name": "python",
            "nbconvert_exporter": "python",
            "pygments_lexer": "ipython3",
            "version": "3.8.2",
        },
        "orig_nbformat": 4,
        "vscode": {
            "interpreter": {
                "hash": "3920dafa373898c2b38ca23ebadafd59a137dbdad2949830053e0f9b205dc05b"
            }
        },
    },
    "nbformat": 4,
    "nbformat_minor": 2,
}
