{
 "cells": [
  {
   "cell_type": "code",
   "execution_count": 1,
   "metadata": {},
   "outputs": [],
   "source": [
    "%load_ext autoreload\n",
    "%autoreload 2"
   ]
  },
  {
   "cell_type": "code",
   "execution_count": 2,
   "metadata": {},
   "outputs": [],
   "source": [
    "import numpy as np\n",
    "import pandas as pd\n",
    "import matplotlib.pyplot as plt\n",
    "import os\n",
    "import subprocess\n",
    "import shapely.geometry\n",
    "from metaearth.provider.metloom import *\n",
    "from omegaconf import OmegaConf\n",
    "from metaearth.api import _initialize_providers\n",
    "\n",
    "from metloom.pointdata.snotel_client import SeriesSnotelClient, BaseSnotelClient\n",
    "os.chdir(\"..\")"
   ]
  },
  {
   "cell_type": "code",
   "execution_count": 3,
   "metadata": {},
   "outputs": [],
   "source": [
    "config_file = 'config/metloom.yaml'\n",
    "schema: ConfigSchema = OmegaConf.structured(ConfigSchema)\n",
    "incfg = OmegaConf.load(config_file)\n",
    "cfg: Any = OmegaConf.merge(schema, incfg)"
   ]
  },
  {
   "cell_type": "code",
   "execution_count": 4,
   "metadata": {},
   "outputs": [],
   "source": [
    "triplet = '1032:CO:SNTL'\n",
    "aoi_file = 'config/aoi/aso-2013-2019-regions.json'\n",
    "region = gpd.read_file(aoi_file)\n"
   ]
  },
  {
   "cell_type": "code",
   "execution_count": 5,
   "metadata": {},
   "outputs": [],
   "source": [
    "str_datetime = cfg['providers'][0]['collections'][0]['datetime']\n",
    "start_date_temp, end_date_temp = str_datetime.split(\"/\")\n",
    "start_date = datetime.strptime(start_date_temp, \"%Y-%m-%d\")\n",
    "end_date = datetime.strptime(end_date_temp, \"%Y-%m-%d\")"
   ]
  },
  {
   "cell_type": "code",
   "execution_count": 6,
   "metadata": {},
   "outputs": [
    {
     "data": {
      "text/plain": [
       "{'datetime': Timestamp('2017-04-01 00:00:00', freq='D'),\n",
       " 'flag': 'V',\n",
       " 'value': 9.4}"
      ]
     },
     "execution_count": 6,
     "metadata": {},
     "output_type": "execute_result"
    }
   ],
   "source": [
    "ssc = SeriesSnotelClient(start_date, end_date, triplet, )\n",
    "ssc.get_data('WTEQ')[0]"
   ]
  },
  {
   "cell_type": "code",
   "execution_count": null,
   "metadata": {},
   "outputs": [],
   "source": []
  }
 ],
 "metadata": {
  "kernelspec": {
   "display_name": "Python 3.8.2 ('metaearth')",
   "language": "python",
   "name": "python3"
  },
  "language_info": {
   "codemirror_mode": {
    "name": "ipython",
    "version": 3
   },
   "file_extension": ".py",
   "mimetype": "text/x-python",
   "name": "python",
   "nbconvert_exporter": "python",
   "pygments_lexer": "ipython3",
   "version": "3.8.2"
  },
  "orig_nbformat": 4,
  "vscode": {
   "interpreter": {
    "hash": "3920dafa373898c2b38ca23ebadafd59a137dbdad2949830053e0f9b205dc05b"
   }
  }
 },
 "nbformat": 4,
 "nbformat_minor": 2
}
