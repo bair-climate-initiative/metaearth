{
 "cells": [
  {
   "cell_type": "markdown",
   "id": "d3b8c15c",
   "metadata": {},
   "source": [
    "# Plotting AMSR-E data from a HDF"
   ]
  },
  {
   "cell_type": "code",
   "execution_count": 1,
   "id": "abba5630",
   "metadata": {},
   "outputs": [],
   "source": [
    "from pyhdf.SD import SD, SDC\n",
    "from pathlib import Path\n",
    "\n",
    "# Test should run from root\n",
    "import os\n",
    "\n",
    "os.chdir(\"..\")"
   ]
  },
  {
   "cell_type": "code",
   "execution_count": 2,
   "id": "df2ba137",
   "metadata": {},
   "outputs": [
    {
     "name": "stderr",
     "output_type": "stream",
     "text": [
      "/Users/raymond/opt/anaconda3/envs/multiearth/lib/python3.8/site-packages/tqdm/auto.py:22: TqdmWarning: IProgress not found. Please update jupyter and ipywidgets. See https://ipywidgets.readthedocs.io/en/stable/user_install.html\n",
      "  from .autonotebook import tqdm as notebook_tqdm\n",
      "\u001b[34m16:04:00\u001b[0m \u001b[33mINFO\u001b[0m - \u001b[1mExtraction details for provider ProviderKey.EARTHDATA with collection AE_5DSno: \n",
      "id: AE_MoSno\n",
      "assets:\n",
      "- data\n",
      "outdir: null\n",
      "datetime: null\n",
      "aoi_file: null\n",
      "max_items: 1\n",
      "\u001b[0m\n",
      "\u001b[34m16:04:00\u001b[0m \u001b[33mINFO\u001b[0m - \u001b[1mExtraction details for provider ProviderKey.EARTHDATA with collection AE_DySno: \n",
      "id: AE_MoSno\n",
      "assets:\n",
      "- data\n",
      "outdir: null\n",
      "datetime: null\n",
      "aoi_file: null\n",
      "max_items: 1\n",
      "\u001b[0m\n",
      "\u001b[34m16:04:00\u001b[0m \u001b[33mINFO\u001b[0m - \u001b[1mExtraction details for provider ProviderKey.EARTHDATA with collection AE_MoSno: \n",
      "id: AE_MoSno\n",
      "assets:\n",
      "- data\n",
      "outdir: null\n",
      "datetime: null\n",
      "aoi_file: null\n",
      "max_items: 1\n",
      "\u001b[0m\n",
      "\u001b[34m16:04:01\u001b[0m \u001b[33mINFO\u001b[0m - \u001b[1mEarthData Provider returned 1 items for AE_5DSno for datetime 2000-05-01/2005-03-01\u001b[0m\n",
      "\u001b[34m16:04:01\u001b[0m \u001b[33mINFO\u001b[0m - \u001b[1mEarthData Provider returned 1 items for AE_DySno for datetime 2000-05-01/2005-03-01\u001b[0m\n",
      "\u001b[34m16:04:02\u001b[0m \u001b[33mINFO\u001b[0m - \u001b[1mEarthData Provider returned 1 items for AE_MoSno for datetime 2000-05-01/2005-03-01\u001b[0m\n",
      "\u001b[34m16:04:02\u001b[0m \u001b[33mINFO\u001b[0m - \u001b[1m3 assets did not specify file size, will query size directly with http request (this may take a few moments)\n",
      "system.query_asset_sizes=False can be used to disable this behavior\u001b[0m\n",
      "100%|███████████████████████████████████████████████████████████████████████████████████████████████████| 3/3 [00:01<00:00,  2.51it/s]\n",
      "\u001b[34m16:04:03\u001b[0m \u001b[33mINFO\u001b[0m - \u001b[1m\n",
      "\n",
      "****************************************************************************************************\n",
      "To Extract:\n",
      "EarthData Provider: AE_5DSno.v2\n",
      "EarthData Provider: AE_DySno.v2\n",
      "EarthData Provider: AE_MoSno.v2\n",
      "\n",
      "\n",
      "Collection               | Key                 | Description\n",
      "--------------------------------------------------------------------------------\n",
      "AE_5DSno.v2              | data                | \n",
      "AE_DySno.v2              | data                | \n",
      "AE_MoSno.v2              | data                | \n",
      "\n",
      "\n",
      "Collection size                     6 MB\n",
      "Size of remaining data to download  6 MB\n",
      "****************************************************************************************************\n",
      "\u001b[0m\n",
      "\u001b[34m16:04:03\u001b[0m \u001b[33mINFO\u001b[0m - \u001b[1mStarting data download\u001b[0m\n",
      "MB: 100%|███████████████████████████████████████████████████████████████████████████████████████████████| 6/6 [00:03<00:00,  1.52it/s]"
     ]
    },
    {
     "name": "stdout",
     "output_type": "stream",
     "text": [
      "Successfully extracted assets.\n"
     ]
    },
    {
     "name": "stderr",
     "output_type": "stream",
     "text": [
      "\n"
     ]
    }
   ],
   "source": [
    "from omegaconf import OmegaConf\n",
    "from multiearth.api import extract_assets\n",
    "from multiearth.config import ConfigSchema\n",
    "\n",
    "cfg = OmegaConf.load(\"config/nsidc-amsr.yaml\")\n",
    "cfg_schema = OmegaConf.structured(ConfigSchema)\n",
    "cfg = OmegaConf.merge(cfg_schema, cfg)\n",
    "\n",
    "# Constrain the test to only pull one item and one band\n",
    "for pvdr in cfg.providers:\n",
    "    for coll in pvdr.collections:\n",
    "        coll.max_items = 1\n",
    "        coll.assets = [\"data\"]\n",
    "\n",
    "success = extract_assets(cfg)\n",
    "print(\"Successfully extracted assets.\" if success else \"Asset extraction failed.\")"
   ]
  },
  {
   "cell_type": "markdown",
   "id": "0f7d39a4",
   "metadata": {},
   "source": [
    "Let's load our HDF files we obtained from MultiEarth"
   ]
  },
  {
   "cell_type": "code",
   "execution_count": 3,
   "id": "cac87016",
   "metadata": {},
   "outputs": [],
   "source": [
    "# Find the correct NC file and load it\n",
    "# We avoid hardcoding the path here in case the API changes down the road\n",
    "\n",
    "fpath = Path(cfg[\"default_collection\"][\"outdir\"])\n",
    "collections = [\"AE_5DSno\", \"AE_DySno\", \"AE_MoSno\"]\n",
    "hdf_file_paths = [\n",
    "    list((fpath / collection).glob(\"**/*.hdf\")) for collection in collections\n",
    "]\n",
    "\n",
    "# We know there is only one file pulled, assert\n",
    "assert (\n",
    "    len(hdf_file_paths) == 3\n",
    "), f\"There were {len(hdf_files)} files pulled. `expected 3` failed to constrain.\"\n",
    "\n",
    "hdf_files = [SD(str(hdf_file_fpath[0]), SDC.READ) for hdf_file_fpath in hdf_file_paths]"
   ]
  },
  {
   "cell_type": "code",
   "execution_count": 4,
   "id": "7d4b315a",
   "metadata": {
    "scrolled": true
   },
   "outputs": [
    {
     "name": "stdout",
     "output_type": "stream",
     "text": [
      "{'SWE_NorthernPentad': (('YDim:Northern Hemisphere', 'XDim:Northern Hemisphere'), (721, 721), 21, 0), 'Flags_NorthernPentad': (('YDim:Northern Hemisphere', 'XDim:Northern Hemisphere'), (721, 721), 21, 1), 'SWE_SouthernPentad': (('YDim:Southern Hemisphere', 'XDim:Southern Hemisphere'), (721, 721), 21, 2), 'Flags_SouthernPentad': (('YDim:Southern Hemisphere', 'XDim:Southern Hemisphere'), (721, 721), 21, 3)}\n",
      "{'SWE_NorthernDaily': (('YDim:Northern Hemisphere', 'XDim:Northern Hemisphere'), (721, 721), 21, 0), 'Flags_NorthernDaily': (('YDim:Northern Hemisphere', 'XDim:Northern Hemisphere'), (721, 721), 21, 1), 'SWE_SouthernDaily': (('YDim:Southern Hemisphere', 'XDim:Southern Hemisphere'), (721, 721), 21, 2), 'Flags_SouthernDaily': (('YDim:Southern Hemisphere', 'XDim:Southern Hemisphere'), (721, 721), 21, 3)}\n",
      "{'SWE_NorthernMonth': (('YDim:Northern Hemisphere', 'XDim:Northern Hemisphere'), (721, 721), 21, 0), 'Flags_NorthernMonth': (('YDim:Northern Hemisphere', 'XDim:Northern Hemisphere'), (721, 721), 21, 1), 'SWE_SouthernMonth': (('YDim:Southern Hemisphere', 'XDim:Southern Hemisphere'), (721, 721), 21, 2), 'Flags_SouthernMonth': (('YDim:Southern Hemisphere', 'XDim:Southern Hemisphere'), (721, 721), 21, 3)}\n"
     ]
    }
   ],
   "source": [
    "for hdf in hdf_files:\n",
    "    dataset = hdf.datasets()\n",
    "    print(dataset)"
   ]
  }
 ],
 "metadata": {
  "kernelspec": {
   "display_name": "Python 3 (ipykernel)",
   "language": "python",
   "name": "python3"
  },
  "language_info": {
   "codemirror_mode": {
    "name": "ipython",
    "version": 3
   },
   "file_extension": ".py",
   "mimetype": "text/x-python",
   "name": "python",
   "nbconvert_exporter": "python",
   "pygments_lexer": "ipython3",
   "version": "3.8.2"
  }
 },
 "nbformat": 4,
 "nbformat_minor": 5
}
