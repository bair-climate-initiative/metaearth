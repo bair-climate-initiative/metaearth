{
 "cells": [
  {
   "cell_type": "code",
   "execution_count": 1,
   "metadata": {},
   "outputs": [],
   "source": [
    "import pandas as pd\n",
    "import numpy as np\n",
    "from matplotlib import pyplot as plt\n",
    "import os\n",
    "import glob\n",
    "from pathlib import Path\n",
    "from matplotlib import colors\n",
    "import zipfile"
   ]
  },
  {
   "cell_type": "markdown",
   "metadata": {},
   "source": [
    "# SWESAR\n",
    "* https://snowex-hackweek.github.io/website/tutorials/sar/swesarr.html"
   ]
  },
  {
   "cell_type": "code",
   "execution_count": 2,
   "metadata": {},
   "outputs": [],
   "source": [
    "import os\n",
    "\n",
    "os.chdir(\"..\")"
   ]
  },
  {
   "cell_type": "code",
   "execution_count": 3,
   "metadata": {},
   "outputs": [
    {
     "name": "stderr",
     "output_type": "stream",
     "text": [
      "/opt/anaconda3/envs/metaearth/lib/python3.8/site-packages/tqdm/auto.py:22: TqdmWarning: IProgress not found. Please update jupyter and ipywidgets. See https://ipywidgets.readthedocs.io/en/stable/user_install.html\n",
      "  from .autonotebook import tqdm as notebook_tqdm\n",
      "\u001b[34m15:37:15\u001b[0m \u001b[33mINFO\u001b[0m - \u001b[1mExtraction details for collection SNEX20_SWESARR_TB:\n",
      "\t\tprovider=<EarthData Provider> \n",
      "\t\ttimerange=<2020-02-10/2020-02-12>,\n",
      "\t\taoi_file=<config/aoi/conus-expanded.json>, \n",
      "\t\toutput_dir=<data/>,\n",
      "\t\tassets=<['all']>\u001b[0m\n",
      "\u001b[34m15:37:15\u001b[0m \u001b[33mINFO\u001b[0m - \u001b[1m\n",
      "EarthData Provider returned 1 items for SNEX20_SWESARR_TB for datetime 2020-02-10/2020-02-12\n",
      "\u001b[0m\n",
      "\u001b[34m15:37:15\u001b[0m \u001b[33mINFO\u001b[0m - \u001b[1m2 assets have unknown file size\u001b[0m\n",
      "\u001b[34m15:37:15\u001b[0m \u001b[33mINFO\u001b[0m - \u001b[1m2 assets to extract from 1 items\u001b[0m\n",
      "\u001b[34m15:37:15\u001b[0m \u001b[33mINFO\u001b[0m - \u001b[1mAsset types: \n",
      "key=data; description=\"\"\n",
      "key=metadata; description=\"\"\u001b[0m\n",
      "\u001b[34m15:37:15\u001b[0m \u001b[33mINFO\u001b[0m - \u001b[1mTotal asset size: 0 MB\u001b[0m\n",
      "\u001b[34m15:37:15\u001b[0m \u001b[33mINFO\u001b[0m - \u001b[1mNumber of assets with unknown size: 2\u001b[0m\n",
      "\u001b[34m15:37:16\u001b[0m \u001b[33mINFO\u001b[0m - \u001b[1mStarting data extraction\u001b[0m\n",
      "\u001b[34m15:37:16\u001b[0m \u001b[33mINFO\u001b[0m - \u001b[1m2 assets already exist, skipping\u001b[0m\n",
      "\u001b[34m15:37:16\u001b[0m \u001b[33mINFO\u001b[0m - \u001b[1mNo assets to extract\u001b[0m\n",
      "Assets: 0it [00:05, ?it/s]"
     ]
    },
    {
     "name": "stdout",
     "output_type": "stream",
     "text": [
      "Successfully extracted 0 assets. 0 failed.\n"
     ]
    },
    {
     "name": "stderr",
     "output_type": "stream",
     "text": [
      "\n"
     ]
    }
   ],
   "source": [
    "from omegaconf import OmegaConf\n",
    "from metaearth.api import extract_assets\n",
    "from metaearth.config import ConfigSchema\n",
    "\n",
    "cfg = OmegaConf.load(\"config/nsidc-aso.yaml\")\n",
    "cfg_schema = OmegaConf.structured(ConfigSchema)\n",
    "cfg = OmegaConf.merge(cfg_schema, cfg)\n",
    "\n",
    "# Constrain the test to only pull one item\n",
    "for collection in cfg[\"collections\"].keys():\n",
    "    cfg[\"collections\"][collection][\"max_items\"] = 1\n",
    "\n",
    "successfully_extracted_assets, failed_assets = extract_assets(cfg)\n",
    "print(\n",
    "    f\"Successfully extracted {len(successfully_extracted_assets)} assets. {len(failed_assets)} failed.\"\n",
    ")"
   ]
  },
  {
   "cell_type": "code",
   "execution_count": 4,
   "metadata": {},
   "outputs": [
    {
     "name": "stdout",
     "output_type": "stream",
     "text": [
      "data/SNEX20_SWESARR_TB.v1/\n"
     ]
    }
   ],
   "source": [
    "fpath = \"data/SNEX20_SWESARR_TB.v1/\"\n",
    "print(fpath)\n",
    "files = glob.glob(fpath + \"*\")\n",
    "file = files[0]"
   ]
  },
  {
   "cell_type": "code",
   "execution_count": 5,
   "metadata": {},
   "outputs": [
    {
     "name": "stdout",
     "output_type": "stream",
     "text": [
      "                           UTC  Longitude (deg)  Latitude (deg)  \\\n",
      "0     20200210-22:52:04.718500      -108.115052       39.014491   \n",
      "1     20200210-22:52:04.818500      -108.115144       39.014491   \n",
      "2     20200210-22:52:04.918500      -108.115237       39.014491   \n",
      "3     20200210-22:52:05.018500      -108.115329       39.014491   \n",
      "4     20200210-22:52:05.118500      -108.115422       39.014491   \n",
      "...                        ...              ...             ...   \n",
      "1253  20200210-22:54:10.221420      -108.212649       39.021992   \n",
      "1254  20200210-22:54:10.321440      -108.212741       39.021992   \n",
      "1255  20200210-22:54:10.421440      -108.212741       39.021992   \n",
      "1256  20200210-22:54:10.521440      -108.212834       39.021992   \n",
      "1257  20200210-22:54:10.621440      -108.212927       39.021992   \n",
      "\n",
      "      Elevation (m)  TB X (K)  TB K (K)  TB Ka (K)  Antenna Longitude (deg)  \\\n",
      "0              3150     234.2     166.6       85.0              -108.052113   \n",
      "1              3150     233.2     168.2       85.0              -108.052117   \n",
      "2              3150     235.1     166.2       84.8              -108.052120   \n",
      "3              3150     237.1     166.2       85.2              -108.052124   \n",
      "4              3150     234.3     166.6       85.1              -108.052128   \n",
      "...             ...       ...       ...        ...                      ...   \n",
      "1253           3032     232.2     166.0       85.4              -108.056826   \n",
      "1254           3032     233.2     166.4       85.6              -108.056829   \n",
      "1255           3032     234.7     166.3       85.4              -108.056833   \n",
      "1256           3032     234.4     166.2       85.4              -108.056837   \n",
      "1257           3032     233.8     166.5       85.7              -108.056841   \n",
      "\n",
      "      Antenna Latitude (deg)  Antenna Altitude (m)  Antenna Yaw (deg)  \\\n",
      "0                  39.024629                4914.8               0.89   \n",
      "1                  39.024629                4914.8               0.89   \n",
      "2                  39.024629                4914.8               0.89   \n",
      "3                  39.024629                4914.8               0.91   \n",
      "4                  39.024629                4914.8               0.91   \n",
      "...                      ...                   ...                ...   \n",
      "1253               39.024887                4910.4               0.56   \n",
      "1254               39.024887                4910.4               0.57   \n",
      "1255               39.024887                4910.4               0.58   \n",
      "1256               39.024887                4910.4               0.59   \n",
      "1257               39.024887                4910.3               0.61   \n",
      "\n",
      "      Antenna Pitch (deg)  Antenna Look Angle (deg)  \n",
      "0                    1.55                      44.6  \n",
      "1                    1.56                      44.6  \n",
      "2                    1.56                      44.6  \n",
      "3                    1.56                      44.7  \n",
      "4                    1.56                      44.7  \n",
      "...                   ...                       ...  \n",
      "1253                 1.55                      44.8  \n",
      "1254                 1.55                      44.8  \n",
      "1255                 1.55                      44.8  \n",
      "1256                 1.55                      44.8  \n",
      "1257                 1.54                      44.8  \n",
      "\n",
      "[1258 rows x 13 columns]\n"
     ]
    }
   ],
   "source": [
    "datafiles = glob.glob(file + \"/*.csv\")[0]\n",
    "data = pd.read_csv(datafiles)\n",
    "lon = data[\"Longitude (deg)\"]\n",
    "lat = data[\"Latitude (deg)\"]\n",
    "print(data)"
   ]
  },
  {
   "cell_type": "markdown",
   "metadata": {},
   "source": [
    "## Elevation Plot"
   ]
  },
  {
   "cell_type": "code",
   "execution_count": 6,
   "metadata": {},
   "outputs": [
    {
     "data": {
      "image/png": "[encoded data removed]",
      "text/plain": [
       "<Figure size 640x480 with 1 Axes>"
      ]
     },
     "metadata": {},
     "output_type": "display_data"
    }
   ],
   "source": [
    "norm = colors.Normalize(vmin=2900, vmax=3200)\n",
    "cmap = plt.get_cmap(\"terrain\")\n",
    "elevation = data[\"Elevation (m)\"].values\n",
    "plt.scatter(data[\"Longitude (deg)\"], data[\"Latitude (deg)\"], c=elevation, cmap=cmap)\n",
    "plt.show()"
   ]
  },
  {
   "cell_type": "markdown",
   "metadata": {},
   "source": [
    "## Radiometer plot"
   ]
  },
  {
   "cell_type": "code",
   "execution_count": 7,
   "metadata": {},
   "outputs": [
    {
     "data": {
      "image/png": "[encoded data removed]",
      "text/plain": [
       "<Figure size 640x480 with 1 Axes>"
      ]
     },
     "metadata": {},
     "output_type": "display_data"
    }
   ],
   "source": [
    "tb_ser = pd.Series(\n",
    "    data[\"TB X (K)\"].to_list()\n",
    "    + data[\"TB K (K)\"].to_list()\n",
    "    + data[\"TB Ka (K)\"].to_list(),\n",
    "    name=\"Tb\",\n",
    ")\n",
    "data[\"tb\"] = tb_ser\n",
    "plt.scatter(\n",
    "    data[\"Longitude (deg)\"], data[\"Latitude (deg)\"], c=data[\"tb\"].values, cmap=cmap\n",
    ")\n",
    "plt.show()"
   ]
  },
  {
   "cell_type": "markdown",
   "metadata": {},
   "source": [
    "# UAVSAR\n",
    "*  https://snowex-hackweek.github.io/website/tutorials/sar/uavsar.html#opening-and-plotting-the-raw-uavsar-raster-files"
   ]
  },
  {
   "cell_type": "code",
   "execution_count": 8,
   "metadata": {},
   "outputs": [],
   "source": [
    "import rasterio as rio\n",
    "from rasterio.plot import show  # plotting raster data\n",
    "from rasterio.plot import show_hist  # histograms of raster data"
   ]
  },
  {
   "cell_type": "code",
   "execution_count": 9,
   "metadata": {},
   "outputs": [
    {
     "name": "stderr",
     "output_type": "stream",
     "text": [
      "\u001b[34m15:37:22\u001b[0m \u001b[33mINFO\u001b[0m - \u001b[1mExtraction details for collection UAVSAR_INSAR_INT_GRD:\n",
      "\t\tprovider=<EarthData Provider> \n",
      "\t\ttimerange=<2021-03-10/2021-03-21>,\n",
      "\t\taoi_file=<config/aoi/conus-expanded.json>, \n",
      "\t\toutput_dir=<data>,\n",
      "\t\tassets=<['all']>\u001b[0m\n",
      "\u001b[34m15:37:23\u001b[0m \u001b[33mINFO\u001b[0m - \u001b[1m\n",
      "EarthData Provider returned 1 items for UAVSAR_INSAR_INT_GRD for datetime 2021-03-10/2021-03-21\n",
      "\u001b[0m\n",
      "\u001b[34m15:37:23\u001b[0m \u001b[33mINFO\u001b[0m - \u001b[1mExtraction details for collection UAVSAR_INSAR_AMP_GRD:\n",
      "\t\tprovider=<EarthData Provider> \n",
      "\t\ttimerange=<2021-03-10/2021-03-21>,\n",
      "\t\taoi_file=<config/aoi/conus-expanded.json>, \n",
      "\t\toutput_dir=<data>,\n",
      "\t\tassets=<['all']>\u001b[0m\n",
      "\u001b[34m15:37:23\u001b[0m \u001b[33mINFO\u001b[0m - \u001b[1m\n",
      "EarthData Provider returned 1 items for UAVSAR_INSAR_AMP_GRD for datetime 2021-03-10/2021-03-21\n",
      "\u001b[0m\n",
      "\u001b[34m15:37:23\u001b[0m \u001b[33mINFO\u001b[0m - \u001b[1m6 assets have unknown file size\u001b[0m\n",
      "\u001b[34m15:37:23\u001b[0m \u001b[33mINFO\u001b[0m - \u001b[1m6 assets to extract from 1 items\u001b[0m\n",
      "\u001b[34m15:37:23\u001b[0m \u001b[33mINFO\u001b[0m - \u001b[1mAsset types: \n",
      "key=data; description=\"\"\n",
      "key=browse; description=\"\"\n",
      "key=metadata; description=\"\"\u001b[0m\n",
      "\u001b[34m15:37:23\u001b[0m \u001b[33mINFO\u001b[0m - \u001b[1mTotal asset size: 0 MB\u001b[0m\n",
      "\u001b[34m15:37:23\u001b[0m \u001b[33mINFO\u001b[0m - \u001b[1mNumber of assets with unknown size: 6\u001b[0m\n",
      "\u001b[34m15:37:23\u001b[0m \u001b[33mINFO\u001b[0m - \u001b[1mStarting data extraction\u001b[0m\n",
      "\u001b[34m15:37:23\u001b[0m \u001b[33mINFO\u001b[0m - \u001b[1m6 assets already exist, skipping\u001b[0m\n",
      "\u001b[34m15:37:23\u001b[0m \u001b[33mINFO\u001b[0m - \u001b[1mNo assets to extract\u001b[0m\n",
      "Assets: 0it [00:05, ?it/s]"
     ]
    },
    {
     "name": "stdout",
     "output_type": "stream",
     "text": [
      "Successfully extracted 0 assets. 0 failed.\n"
     ]
    },
    {
     "name": "stderr",
     "output_type": "stream",
     "text": [
      "\n"
     ]
    }
   ],
   "source": [
    "cfg = OmegaConf.load(\"config/UAVSAR.yaml\")\n",
    "cfg_schema = OmegaConf.structured(ConfigSchema)\n",
    "cfg = OmegaConf.merge(cfg_schema, cfg)\n",
    "\n",
    "# Constrain the test to only pull one item\n",
    "for collection in cfg[\"collections\"].keys():\n",
    "    cfg[\"collections\"][collection][\"max_items\"] = 1\n",
    "\n",
    "successfully_extracted_assets, failed_assets = extract_assets(cfg)\n",
    "print(\n",
    "    f\"Successfully extracted {len(successfully_extracted_assets)} assets. {len(failed_assets)} failed.\"\n",
    ")"
   ]
  },
  {
   "cell_type": "markdown",
   "metadata": {},
   "source": [
    "## Post process and plot"
   ]
  },
  {
   "cell_type": "markdown",
   "metadata": {},
   "source": [
    "Following code cells are used to unzip the data, transform to tiff file and plot. GDAL is required to transform the file. "
   ]
  },
  {
   "cell_type": "code",
   "execution_count": 10,
   "metadata": {},
   "outputs": [],
   "source": [
    "# folder is path to a folder with an .ann (or .txt) and .grd files (.amp1, .amp2, .cor, .unw, .int)\n",
    "import codecs\n",
    "import re\n",
    "\n",
    "\n",
    "def uavsar_tiff_convert(folder):\n",
    "    \"\"\"\n",
    "    Builds a header file for the input UAVSAR .grd file,\n",
    "    allowing the data to be read as a raster dataset.\n",
    "    :param folder:   the folder containing the UAVSAR .grd and .ann files\n",
    "    \"\"\"\n",
    "\n",
    "    os.chdir(folder)\n",
    "    int_file = glob.glob(os.path.join(folder, \"int.grd\"))\n",
    "\n",
    "    # Empty lists to put information that will be recalled later.\n",
    "    Lines_list = []\n",
    "    Samples_list = []\n",
    "    Latitude_list = []\n",
    "    Longitude_list = []\n",
    "    Files_list = []\n",
    "\n",
    "    # Step 1: Look through folder and determine how many different flights there are\n",
    "    # by looking at the HDR files.\n",
    "    for files in os.listdir(folder):\n",
    "        if files[-4:] == \".grd\":\n",
    "            newfile = open(files[0:-4] + \".hdr\", \"w\")\n",
    "            newfile.write(\n",
    "                \"\"\"ENVI\n",
    "description = {DESCFIELD}\n",
    "samples = NSAMP\n",
    "lines = NLINE\n",
    "bands = 1\n",
    "header offset = 0\n",
    "data type = DATTYPE\n",
    "interleave = bsq\n",
    "sensor type = UAVSAR L-Band\n",
    "byte order = 0\n",
    "map info = {Geographic Lat/Lon, \n",
    "            1.000, \n",
    "            1.000, \n",
    "            LON, \n",
    "            LAT,  \n",
    "            0.0000555600000000, \n",
    "            0.0000555600000000, \n",
    "            WGS-84, units=Degrees}\n",
    "wavelength units = Unknown\n",
    "                \"\"\"\n",
    "            )\n",
    "            newfile.close()\n",
    "            if files[0:18] not in Files_list:\n",
    "                Files_list.append(files[0:18])\n",
    "\n",
    "    # Variables used to recall indexed values.\n",
    "    var1 = 0\n",
    "\n",
    "    # Step 2: Look through the folder and locate the annotation file(s).\n",
    "    # These can be in either .txt or .ann file types.\n",
    "    for files in os.listdir(folder):\n",
    "        if Files_list[var1] and files[-4:] == \".txt\" or files[-4:] == \".ann\":\n",
    "            # Step 3: Once located, find the info we are interested in and append it to\n",
    "            # the appropriate list. We limit the variables to <=1 so that they only\n",
    "            # return two values (one for each polarization of\n",
    "            searchfile = codecs.open(files, encoding=\"windows-1252\", errors=\"ignore\")\n",
    "            for line in searchfile:\n",
    "                if \"Ground Range Data Latitude Lines\" in line:\n",
    "                    Lines = line[65:70]\n",
    "                    print(f\"Number of Lines: {Lines}\")\n",
    "                    if Lines not in Lines_list:\n",
    "                        Lines_list.append(Lines)\n",
    "\n",
    "                elif \"Ground Range Data Longitude Samples\" in line:\n",
    "                    Samples = line[65:70]\n",
    "                    print(f\"Number of Samples: {Samples}\")\n",
    "                    if Samples not in Samples_list:\n",
    "                        Samples_list.append(Samples)\n",
    "\n",
    "                elif \"Ground Range Data Starting Latitude\" in line:\n",
    "                    Latitude = line[65:85]\n",
    "                    print(f\"Top left lat: {Latitude}\")\n",
    "                    if Latitude not in Latitude_list:\n",
    "                        Latitude_list.append(Latitude)\n",
    "\n",
    "                elif \"Ground Range Data Starting Longitude\" in line:\n",
    "                    Longitude = line[65:85]\n",
    "                    print(f\"Top left Lon: {Longitude}\")\n",
    "                    if Longitude not in Longitude_list:\n",
    "                        Longitude_list.append(Longitude)\n",
    "\n",
    "            # Reset the variables to zero for each different flight date.\n",
    "            var1 = 0\n",
    "            searchfile.close()\n",
    "\n",
    "    # Step 3: Open .hdr file and replace data for all type 4 (real numbers) data\n",
    "    # this all the .grd files expect for .int\n",
    "    for files in os.listdir(folder):\n",
    "        if files[-4:] == \".hdr\":\n",
    "            with open(files, \"r\") as sources:\n",
    "                lines = sources.readlines()\n",
    "            with open(files, \"w\") as sources:\n",
    "                for line in lines:\n",
    "                    if \"data type = DATTYPE\" in line:\n",
    "                        sources.write(re.sub(line[12:19], \"4\", line))\n",
    "                    elif \"DESCFIELD\" in line:\n",
    "                        sources.write(re.sub(line[15:24], folder, line))\n",
    "                    elif \"lines\" in line:\n",
    "                        sources.write(re.sub(line[8:13], Lines, line))\n",
    "                    elif \"samples\" in line:\n",
    "                        sources.write(re.sub(line[10:15], Samples, line))\n",
    "                    elif \"LAT\" in line:\n",
    "                        sources.write(re.sub(line[12:15], Latitude, line))\n",
    "                    elif \"LON\" in line:\n",
    "                        sources.write(re.sub(line[12:15], Longitude, line))\n",
    "                    else:\n",
    "                        sources.write(re.sub(line, line, line))\n",
    "\n",
    "    # Step 3: Open .hdr file and replace data for .int file date type 6 (complex)\n",
    "    for files in os.listdir(folder):\n",
    "        if files[-8:] == \".int.hdr\":\n",
    "            with open(files, \"r\") as sources:\n",
    "                lines = sources.readlines()\n",
    "            with open(files, \"w\") as sources:\n",
    "                for line in lines:\n",
    "                    if \"data type = 4\" in line:\n",
    "                        sources.write(re.sub(line[12:13], \"6\", line))\n",
    "                    elif \"DESCFIELD\" in line:\n",
    "                        sources.write(re.sub(line[15:24], folder, line))\n",
    "                    elif \"lines\" in line:\n",
    "                        sources.write(re.sub(line[8:13], Lines, line))\n",
    "                    elif \"samples\" in line:\n",
    "                        sources.write(re.sub(line[10:15], Samples, line))\n",
    "                    elif \"LAT\" in line:\n",
    "                        sources.write(re.sub(line[12:15], Latitude, line))\n",
    "                    elif \"LON\" in line:\n",
    "                        sources.write(re.sub(line[12:15], Longitude, line))\n",
    "                    else:\n",
    "                        sources.write(re.sub(line, line, line))\n",
    "\n",
    "    # Step 4: Now we have an .hdr file, the data is geocoded and can be loaded into python with rasterio\n",
    "    # once loaded in we use gdal.Translate to convert and save as a .tiff\n",
    "\n",
    "    data_to_process = glob.glob(os.path.join(folder, \"*.grd\"))  # list all .grd files\n",
    "    for (\n",
    "        data_path\n",
    "    ) in (\n",
    "        data_to_process\n",
    "    ):  # loop to open and translate .grd to .tiff, and save .tiffs using gdal\n",
    "        raster_dataset = gdal.Open(data_path, gdal.GA_ReadOnly)\n",
    "        raster = gdal.Translate(\n",
    "            os.path.join(folder, os.path.basename(data_path) + \".tiff\"),\n",
    "            raster_dataset,\n",
    "            format=\"Gtiff\",\n",
    "            outputType=gdal.GDT_Float32,\n",
    "        )\n",
    "\n",
    "    # Step 5: Save the .int raster, needs separate save because of the complex format\n",
    "    data_to_process = glob.glob(\n",
    "        os.path.join(folder, \"*.int.grd\")\n",
    "    )  # list all .int.grd files (only 1)\n",
    "    for data_path in data_to_process:\n",
    "        raster_dataset = gdal.Open(data_path, gdal.GA_ReadOnly)\n",
    "        raster = gdal.Translate(\n",
    "            os.path.join(folder, os.path.basename(data_path) + \".tiff\"),\n",
    "            raster_dataset,\n",
    "            format=\"Gtiff\",\n",
    "            outputType=gdal.GDT_CFloat32,\n",
    "        )\n",
    "\n",
    "    print(\".tiffs have been created\")\n",
    "    return"
   ]
  },
  {
   "cell_type": "code",
   "execution_count": 11,
   "metadata": {},
   "outputs": [],
   "source": [
    "POST_PLOT = False\n",
    "if POST_PLOT:\n",
    "    from osgeo import gdal\n",
    "    \n",
    "    fpath = \"data/UAVSAR_INSAR_AMP_GRD.v1/\"\n",
    "    print(fpath)\n",
    "    files = glob.glob(fpath + \"*\")\n",
    "    file = files[0]\n",
    "    print(file)\n",
    "    file = glob.glob(file + \"/*\")[0]\n",
    "    print(file)\n",
    "    folder = Path(file).parent.absolute()\n",
    "    with zipfile.ZipFile(file, \"r\") as zip_ref:\n",
    "        zip_ref.extractall(folder)\n",
    "    # data_path = \"/Users/shihengduan/metaearth/data/UAVSAR_INSAR_AMP_GRD.v1/UA_rockmt_32109_21015-004_21017-013_0007d_s01_L090_01-AMPLITUDE_GRD/rockmt_32109_21015-004_21017-013_0007d_s01_L090_01_amp_grd/\"\n",
    "    uavsar_tiff_convert(str(folder))\n",
    "    for amp1 in glob.glob(str(folder) + \"/*amp1.grd.tiff\"):\n",
    "        print(amp1)\n",
    "\n",
    "    # amplitude from the second acquisition\n",
    "    for amp2 in glob.glob(str(folder) + \"/*amp2.grd.tiff\"):\n",
    "        print(amp2)\n",
    "\n",
    "    # coherence\n",
    "    for cor in glob.glob(str(folder) + \"/*cor.grd.tiff\"):\n",
    "        print(cor)\n",
    "\n",
    "    # unwrapped phase\n",
    "    for unw in glob.glob(str(folder) + \"/*unw.grd.tiff\"):\n",
    "        print(unw)\n",
    "\n",
    "    # dem used in processing\n",
    "    for dem in glob.glob(str(folder) + \"/*hgt.grd.tiff\"):\n",
    "        print(dem)\n",
    "    amp1_rast = rio.open(amp1)\n",
    "    fig, ax = plt.subplots(figsize=(10, 7))\n",
    "    ax.set_title(\"Amplitude 1\", fontsize=16)\n",
    "    show((amp1_rast, 1), cmap=\"Blues\", vmin=0, vmax=1)"
   ]
  },
  {
   "cell_type": "code",
   "execution_count": null,
   "metadata": {},
   "outputs": [],
   "source": []
  }
 ],
 "metadata": {
  "kernelspec": {
   "display_name": "Python 3.8.13 ('metaearth')",
   "language": "python",
   "name": "python3"
  },
  "language_info": {
   "codemirror_mode": {
    "name": "ipython",
    "version": 3
   },
   "file_extension": ".py",
   "mimetype": "text/x-python",
   "name": "python",
   "nbconvert_exporter": "python",
   "pygments_lexer": "ipython3",
   "version": "3.8.13"
  },
  "vscode": {
   "interpreter": {
    "hash": "0a45b108f85bf983a916fa759bdf0dd0c22a89645e3c7cded4f6fe762ef26a6d"
   }
  }
 },
 "nbformat": 4,
 "nbformat_minor": 4
}
