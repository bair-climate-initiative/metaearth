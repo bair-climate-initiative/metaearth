{
 "cells": [
  {
   "cell_type": "code",
   "execution_count": 1,
   "metadata": {},
   "outputs": [],
   "source": [
    "%load_ext autoreload\n",
    "%autoreload 2"
   ]
  },
  {
   "cell_type": "code",
   "execution_count": 2,
   "metadata": {},
   "outputs": [],
   "source": [
    "import pandas as pd\n",
    "import numpy as np\n",
    "from matplotlib import pyplot as plt\n",
    "import os\n",
    "import glob\n",
    "from pathlib import Path\n",
    "\n",
    "os.chdir(\"..\")"
   ]
  },
  {
   "cell_type": "markdown",
   "metadata": {},
   "source": [
    "# METLOOM"
   ]
  },
  {
   "cell_type": "code",
   "execution_count": 3,
   "metadata": {},
   "outputs": [
    {
     "name": "stderr",
     "output_type": "stream",
     "text": [
      "/Users/jacobyeung/mambaforge/envs/multiearth/lib/python3.8/site-packages/tqdm/auto.py:22: TqdmWarning: IProgress not found. Please update jupyter and ipywidgets. See https://ipywidgets.readthedocs.io/en/stable/user_install.html\n",
      "  from .autonotebook import tqdm as notebook_tqdm\n",
      "\u001b[34m19:57:36\u001b[0m \u001b[33mINFO\u001b[0m - \u001b[1mExtraction details for provider ProviderKey.METLOOM with collection SNOTEL: \n",
      "id: CDEC\n",
      "assets:\n",
      "- SWE\n",
      "outdir: data/cdec_conus_expanded\n",
      "datetime: 2017-04-01/2021-04-23\n",
      "aoi_file: config/aoi/conus-expanded.json\n",
      "max_items: 1\n",
      "\u001b[0m\n",
      "\u001b[34m19:57:36\u001b[0m \u001b[33mINFO\u001b[0m - \u001b[1mExtraction details for provider ProviderKey.METLOOM with collection CDEC: \n",
      "id: CDEC\n",
      "assets:\n",
      "- SWE\n",
      "outdir: data/cdec_conus_expanded\n",
      "datetime: 2017-04-01/2021-04-23\n",
      "aoi_file: config/aoi/conus-expanded.json\n",
      "max_items: 1\n",
      "\u001b[0m\n",
      "\u001b[34m19:57:36\u001b[0m \u001b[33mINFO\u001b[0m - \u001b[1mExtracting assets '[SensorDescription(code='WTEQ', name='SWE', description=None, accumulated=False), SensorDescription(code='TOBS', name='AIR TEMP', description=None, accumulated=False)]' for SNOTEL\u001b[0m\n"
     ]
    },
    {
     "name": "stdout",
     "output_type": "stream",
     "text": [
      "default_collection:\n",
      "  id: null\n",
      "  assets: null\n",
      "  outdir: null\n",
      "  datetime: null\n",
      "  aoi_file: null\n",
      "  max_items: -1\n",
      "providers:\n",
      "- id: METLOOM\n",
      "  kwargs: {}\n",
      "  collections:\n",
      "  - id: SNOTEL\n",
      "    assets:\n",
      "    - SWE\n",
      "    - AIR TEMP\n",
      "    outdir: data/snotel_land_cover_north_america\n",
      "    datetime: 2017-04-01/2021-04-23\n",
      "    aoi_file: config/aoi/demo_landcover.json\n",
      "    max_items: 3\n",
      "  - id: CDEC\n",
      "    assets:\n",
      "    - SWE\n",
      "    outdir: data/cdec_conus_expanded\n",
      "    datetime: 2017-04-01/2021-04-23\n",
      "    aoi_file: config/aoi/conus-expanded.json\n",
      "    max_items: 3\n",
      "system:\n",
      "  log_outdir: ./logs\n",
      "  log_level: INFO\n",
      "  dry_run: false\n",
      "  max_concurrent_extractions: 10\n",
      "  max_download_attempts: 3\n",
      "  remove_existing_if_wrong_size: true\n",
      "  query_asset_sizes: false\n",
      "run_id: ''\n",
      "\n"
     ]
    },
    {
     "name": "stderr",
     "output_type": "stream",
     "text": [
      " 12%|█▎        | 1/8 [00:00<00:06,  1.06it/s]/Users/jacobyeung/mambaforge/envs/multiearth/lib/python3.8/site-packages/urllib3/connectionpool.py:1045: InsecureRequestWarning: Unverified HTTPS request is being made to host 'wcc.sc.egov.usda.gov'. Adding certificate verification is strongly advised. See: https://urllib3.readthedocs.io/en/1.26.x/advanced-usage.html#ssl-warnings\n",
      "  warnings.warn(\n",
      "/Users/jacobyeung/mambaforge/envs/multiearth/lib/python3.8/site-packages/urllib3/connectionpool.py:1045: InsecureRequestWarning: Unverified HTTPS request is being made to host 'wcc.sc.egov.usda.gov'. Adding certificate verification is strongly advised. See: https://urllib3.readthedocs.io/en/1.26.x/advanced-usage.html#ssl-warnings\n",
      "  warnings.warn(\n",
      "100%|██████████| 8/8 [00:01<00:00,  4.62it/s]\n",
      "\u001b[34m19:57:47\u001b[0m \u001b[33mINFO\u001b[0m - \u001b[1mRegion to items took 0.1832 minutes\u001b[0m\n",
      "100%|██████████| 1/1 [00:04<00:00,  4.66s/it]\n",
      "\u001b[34m19:57:51\u001b[0m \u001b[33mINFO\u001b[0m - \u001b[1mDownloading data took 0.2611 minutes\u001b[0m\n",
      "\u001b[34m19:57:51\u001b[0m \u001b[33mINFO\u001b[0m - \u001b[1mExtracting assets '[SensorDescription(code='3', name='SWE', description='SNOW, WATER CONTENT', accumulated=False)]' for CDEC\u001b[0m\n",
      "\u001b[34m19:57:53\u001b[0m \u001b[33mINFO\u001b[0m - \u001b[1mRegion to items took 0.0251 minutes\u001b[0m\n",
      "100%|██████████| 1/1 [00:00<00:00,  1.48it/s]\n",
      "\u001b[34m19:57:53\u001b[0m \u001b[33mINFO\u001b[0m - \u001b[1mDownloading data took 0.0365 minutes\u001b[0m\n"
     ]
    },
    {
     "name": "stdout",
     "output_type": "stream",
     "text": [
      "Successfully extracted assets.\n"
     ]
    }
   ],
   "source": [
    "from omegaconf import OmegaConf\n",
    "from multiearth.api import extract_assets\n",
    "from multiearth.config import ConfigSchema\n",
    "\n",
    "cfg = OmegaConf.load(\"config/metloom.yaml\")\n",
    "cfg_schema = OmegaConf.structured(ConfigSchema)\n",
    "cfg = OmegaConf.merge(cfg_schema, cfg)\n",
    "\n",
    "print(OmegaConf.to_yaml(cfg))\n",
    "\n",
    "# Constrain the test to only pull one item\n",
    "for pvdr in cfg.providers:\n",
    "    for coll in pvdr.collections:\n",
    "        coll.max_items = 1\n",
    "cfg.system.dry_run = False\n",
    "\n",
    "success = extract_assets(cfg)\n",
    "print(\"Successfully extracted assets.\" if success else \"Asset extraction failed.\")"
   ]
  },
  {
   "cell_type": "markdown",
   "metadata": {},
   "source": [
    "We\"ve extracted assets from a single station in this notebook. Note that max_items refers to the maximum number of stations queried."
   ]
  },
  {
   "cell_type": "code",
   "execution_count": 4,
   "metadata": {},
   "outputs": [],
   "source": [
    "fpath = str(Path(cfg[\"providers\"][0][\"collections\"][0][\"outdir\"]))\n",
    "files = list(glob.glob(fpath + \"/*csv\"))\n",
    "\n",
    "# We know there is only one provider pulled, assert\n",
    "assert (\n",
    "    len(files) == 1\n",
    "), f\"There were {len(files)} files pulled. `max_items: 1` failed to constrain.\"\n",
    "\n",
    "file_path = files[0]\n",
    "df = pd.read_csv(file_path)\n",
    "time_var = \"datetime\"\n",
    "df[time_var] = pd.to_datetime(df[time_var]).copy()\n",
    "\n",
    "# We know there is only one station pulled, assert\n",
    "assert (\n",
    "    len(df.groupby(\"geometry\", as_index=False)) == 1\n",
    "), f\"There were {len(df.groupby('geometry', as_index=False))} station records pulled. `max_items: 1` failed to constrain.\""
   ]
  },
  {
   "cell_type": "code",
   "execution_count": 5,
   "metadata": {},
   "outputs": [
    {
     "data": {
      "text/html": [
       "<div>\n",
       "<style scoped>\n",
       "    .dataframe tbody tr th:only-of-type {\n",
       "        vertical-align: middle;\n",
       "    }\n",
       "\n",
       "    .dataframe tbody tr th {\n",
       "        vertical-align: top;\n",
       "    }\n",
       "\n",
       "    .dataframe thead th {\n",
       "        text-align: right;\n",
       "    }\n",
       "</style>\n",
       "<table border=\"1\" class=\"dataframe\">\n",
       "  <thead>\n",
       "    <tr style=\"text-align: right;\">\n",
       "      <th></th>\n",
       "      <th>datetime</th>\n",
       "      <th>site</th>\n",
       "      <th>geometry</th>\n",
       "      <th>SWE</th>\n",
       "      <th>SWE_units</th>\n",
       "      <th>AIR TEMP</th>\n",
       "      <th>AIR TEMP_units</th>\n",
       "      <th>datasource</th>\n",
       "    </tr>\n",
       "  </thead>\n",
       "  <tbody>\n",
       "    <tr>\n",
       "      <th>0</th>\n",
       "      <td>2017-04-01 08:00:00+00:00</td>\n",
       "      <td>540:CA:SNTL</td>\n",
       "      <td>POINT Z (-120.28226 39.49001 6436)</td>\n",
       "      <td>15.8</td>\n",
       "      <td>in</td>\n",
       "      <td>31.28</td>\n",
       "      <td>degF</td>\n",
       "      <td>NRCS</td>\n",
       "    </tr>\n",
       "    <tr>\n",
       "      <th>1</th>\n",
       "      <td>2017-04-02 08:00:00+00:00</td>\n",
       "      <td>540:CA:SNTL</td>\n",
       "      <td>POINT Z (-120.28226 39.49001 6436)</td>\n",
       "      <td>15.8</td>\n",
       "      <td>in</td>\n",
       "      <td>32.90</td>\n",
       "      <td>degF</td>\n",
       "      <td>NRCS</td>\n",
       "    </tr>\n",
       "    <tr>\n",
       "      <th>2</th>\n",
       "      <td>2017-04-03 08:00:00+00:00</td>\n",
       "      <td>540:CA:SNTL</td>\n",
       "      <td>POINT Z (-120.28226 39.49001 6436)</td>\n",
       "      <td>15.8</td>\n",
       "      <td>in</td>\n",
       "      <td>29.12</td>\n",
       "      <td>degF</td>\n",
       "      <td>NRCS</td>\n",
       "    </tr>\n",
       "    <tr>\n",
       "      <th>3</th>\n",
       "      <td>2017-04-04 08:00:00+00:00</td>\n",
       "      <td>540:CA:SNTL</td>\n",
       "      <td>POINT Z (-120.28226 39.49001 6436)</td>\n",
       "      <td>15.7</td>\n",
       "      <td>in</td>\n",
       "      <td>29.66</td>\n",
       "      <td>degF</td>\n",
       "      <td>NRCS</td>\n",
       "    </tr>\n",
       "    <tr>\n",
       "      <th>4</th>\n",
       "      <td>2017-04-05 08:00:00+00:00</td>\n",
       "      <td>540:CA:SNTL</td>\n",
       "      <td>POINT Z (-120.28226 39.49001 6436)</td>\n",
       "      <td>14.1</td>\n",
       "      <td>in</td>\n",
       "      <td>34.70</td>\n",
       "      <td>degF</td>\n",
       "      <td>NRCS</td>\n",
       "    </tr>\n",
       "  </tbody>\n",
       "</table>\n",
       "</div>"
      ],
      "text/plain": [
       "                   datetime         site                            geometry  \\\n",
       "0 2017-04-01 08:00:00+00:00  540:CA:SNTL  POINT Z (-120.28226 39.49001 6436)   \n",
       "1 2017-04-02 08:00:00+00:00  540:CA:SNTL  POINT Z (-120.28226 39.49001 6436)   \n",
       "2 2017-04-03 08:00:00+00:00  540:CA:SNTL  POINT Z (-120.28226 39.49001 6436)   \n",
       "3 2017-04-04 08:00:00+00:00  540:CA:SNTL  POINT Z (-120.28226 39.49001 6436)   \n",
       "4 2017-04-05 08:00:00+00:00  540:CA:SNTL  POINT Z (-120.28226 39.49001 6436)   \n",
       "\n",
       "    SWE SWE_units  AIR TEMP AIR TEMP_units datasource  \n",
       "0  15.8        in     31.28           degF       NRCS  \n",
       "1  15.8        in     32.90           degF       NRCS  \n",
       "2  15.8        in     29.12           degF       NRCS  \n",
       "3  15.7        in     29.66           degF       NRCS  \n",
       "4  14.1        in     34.70           degF       NRCS  "
      ]
     },
     "execution_count": 5,
     "metadata": {},
     "output_type": "execute_result"
    }
   ],
   "source": [
    "df.head()"
   ]
  },
  {
   "cell_type": "markdown",
   "metadata": {},
   "source": [
    "Let\"s select a time window across January 2020 to plot the SWE and Air Temperature across."
   ]
  },
  {
   "cell_type": "code",
   "execution_count": 6,
   "metadata": {},
   "outputs": [
    {
     "data": {
      "text/html": [
       "<div>\n",
       "<style scoped>\n",
       "    .dataframe tbody tr th:only-of-type {\n",
       "        vertical-align: middle;\n",
       "    }\n",
       "\n",
       "    .dataframe tbody tr th {\n",
       "        vertical-align: top;\n",
       "    }\n",
       "\n",
       "    .dataframe thead th {\n",
       "        text-align: right;\n",
       "    }\n",
       "</style>\n",
       "<table border=\"1\" class=\"dataframe\">\n",
       "  <thead>\n",
       "    <tr style=\"text-align: right;\">\n",
       "      <th></th>\n",
       "      <th>datetime</th>\n",
       "      <th>site</th>\n",
       "      <th>geometry</th>\n",
       "      <th>SWE</th>\n",
       "      <th>SWE_units</th>\n",
       "      <th>AIR TEMP</th>\n",
       "      <th>AIR TEMP_units</th>\n",
       "      <th>datasource</th>\n",
       "    </tr>\n",
       "  </thead>\n",
       "  <tbody>\n",
       "    <tr>\n",
       "      <th>1005</th>\n",
       "      <td>2020-01-01</td>\n",
       "      <td>540:CA:SNTL</td>\n",
       "      <td>POINT Z (-120.28226 39.49001 6436)</td>\n",
       "      <td>4.6</td>\n",
       "      <td>in</td>\n",
       "      <td>28.40</td>\n",
       "      <td>degF</td>\n",
       "      <td>NRCS</td>\n",
       "    </tr>\n",
       "    <tr>\n",
       "      <th>1006</th>\n",
       "      <td>2020-01-02</td>\n",
       "      <td>540:CA:SNTL</td>\n",
       "      <td>POINT Z (-120.28226 39.49001 6436)</td>\n",
       "      <td>4.6</td>\n",
       "      <td>in</td>\n",
       "      <td>26.24</td>\n",
       "      <td>degF</td>\n",
       "      <td>NRCS</td>\n",
       "    </tr>\n",
       "    <tr>\n",
       "      <th>1007</th>\n",
       "      <td>2020-01-03</td>\n",
       "      <td>540:CA:SNTL</td>\n",
       "      <td>POINT Z (-120.28226 39.49001 6436)</td>\n",
       "      <td>4.6</td>\n",
       "      <td>in</td>\n",
       "      <td>28.94</td>\n",
       "      <td>degF</td>\n",
       "      <td>NRCS</td>\n",
       "    </tr>\n",
       "    <tr>\n",
       "      <th>1008</th>\n",
       "      <td>2020-01-04</td>\n",
       "      <td>540:CA:SNTL</td>\n",
       "      <td>POINT Z (-120.28226 39.49001 6436)</td>\n",
       "      <td>4.6</td>\n",
       "      <td>in</td>\n",
       "      <td>42.26</td>\n",
       "      <td>degF</td>\n",
       "      <td>NRCS</td>\n",
       "    </tr>\n",
       "    <tr>\n",
       "      <th>1009</th>\n",
       "      <td>2020-01-05</td>\n",
       "      <td>540:CA:SNTL</td>\n",
       "      <td>POINT Z (-120.28226 39.49001 6436)</td>\n",
       "      <td>4.6</td>\n",
       "      <td>in</td>\n",
       "      <td>37.22</td>\n",
       "      <td>degF</td>\n",
       "      <td>NRCS</td>\n",
       "    </tr>\n",
       "  </tbody>\n",
       "</table>\n",
       "</div>"
      ],
      "text/plain": [
       "        datetime         site                            geometry  SWE  \\\n",
       "1005  2020-01-01  540:CA:SNTL  POINT Z (-120.28226 39.49001 6436)  4.6   \n",
       "1006  2020-01-02  540:CA:SNTL  POINT Z (-120.28226 39.49001 6436)  4.6   \n",
       "1007  2020-01-03  540:CA:SNTL  POINT Z (-120.28226 39.49001 6436)  4.6   \n",
       "1008  2020-01-04  540:CA:SNTL  POINT Z (-120.28226 39.49001 6436)  4.6   \n",
       "1009  2020-01-05  540:CA:SNTL  POINT Z (-120.28226 39.49001 6436)  4.6   \n",
       "\n",
       "     SWE_units  AIR TEMP AIR TEMP_units datasource  \n",
       "1005        in     28.40           degF       NRCS  \n",
       "1006        in     26.24           degF       NRCS  \n",
       "1007        in     28.94           degF       NRCS  \n",
       "1008        in     42.26           degF       NRCS  \n",
       "1009        in     37.22           degF       NRCS  "
      ]
     },
     "execution_count": 6,
     "metadata": {},
     "output_type": "execute_result"
    }
   ],
   "source": [
    "start_date = \"2020-01-01\"\n",
    "end_date = \"2020-01-31\"\n",
    "window_df = df[(df[time_var] > start_date) & (df[time_var] < end_date)].copy()\n",
    "window_df.loc[:, time_var] = window_df.loc[:, time_var].dt.date\n",
    "window_df.head()"
   ]
  },
  {
   "cell_type": "code",
   "execution_count": 7,
   "metadata": {},
   "outputs": [
    {
     "data": {
      "text/plain": [
       "Text(0.5, 0.98, 'SWE and Air Temp from 2020-01-01 to 2020-01-31')"
      ]
     },
     "execution_count": 7,
     "metadata": {},
     "output_type": "execute_result"
    },
    {
     "data": {
      "image/png": "[encoded data removed]",
      "text/plain": [
       "<Figure size 1000x500 with 2 Axes>"
      ]
     },
     "metadata": {},
     "output_type": "display_data"
    }
   ],
   "source": [
    "fig, axes = plt.subplots(1, 2, figsize=(10, 5))\n",
    "ax = axes[0]\n",
    "window_df.plot(\n",
    "    ax=ax,\n",
    "    y=\"SWE\",\n",
    "    x=time_var,\n",
    "    ylabel=\"SWE (in)\",\n",
    "    xlabel=\"Date\",\n",
    "    rot=45,\n",
    "    legend=None,\n",
    "    title=\"SWE\",\n",
    ")\n",
    "\n",
    "\n",
    "ax = axes[1]\n",
    "window_df.plot(\n",
    "    ax=ax,\n",
    "    y=\"AIR TEMP\",\n",
    "    x=time_var,\n",
    "    ylabel=\"Air Temp (deg F)\",\n",
    "    xlabel=\"Date\",\n",
    "    rot=45,\n",
    "    legend=None,\n",
    "    title=\"AIR TEMP\",\n",
    ")\n",
    "\n",
    "fig.suptitle(f\"SWE and Air Temp from {start_date} to {end_date}\")"
   ]
  },
  {
   "cell_type": "code",
   "execution_count": null,
   "metadata": {},
   "outputs": [],
   "source": []
  }
 ],
 "metadata": {
  "kernelspec": {
   "display_name": "Python 3.8.13 ('multiearth')",
   "language": "python",
   "name": "python3"
  },
  "language_info": {
   "codemirror_mode": {
    "name": "ipython",
    "version": 3
   },
   "file_extension": ".py",
   "mimetype": "text/x-python",
   "name": "python",
   "nbconvert_exporter": "python",
   "pygments_lexer": "ipython3",
   "version": "3.8.13"
  },
  "orig_nbformat": 4,
  "vscode": {
   "interpreter": {
    "hash": "296230292fb9207cf6b4de3431c7a5b33eaed333ba40b29854df77aa18c12a3d"
   }
  }
 },
 "nbformat": 4,
 "nbformat_minor": 2
}
