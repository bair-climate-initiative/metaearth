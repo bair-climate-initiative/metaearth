{
 "cells": [
  {
   "cell_type": "code",
   "execution_count": 1,
   "metadata": {},
   "outputs": [],
   "source": [
    "%load_ext autoreload\n",
    "%autoreload 2"
   ]
  },
  {
   "cell_type": "code",
   "execution_count": 2,
   "metadata": {},
   "outputs": [],
   "source": [
    "import pandas as pd\n",
    "import numpy as np\n",
    "from matplotlib import pyplot as plt\n",
    "import os\n",
    "import glob\n",
    "from pathlib import Path\n",
    "\n",
    "os.chdir(\"..\")"
   ]
  },
  {
   "cell_type": "markdown",
   "metadata": {},
   "source": [
    "# METLOOM"
   ]
  },
  {
   "cell_type": "code",
   "execution_count": 3,
   "metadata": {},
   "outputs": [
    {
     "name": "stderr",
     "output_type": "stream",
     "text": [
      "\u001b[34m17:56:14\u001b[0m \u001b[33mINFO\u001b[0m - \u001b[1mExtraction details for provider ProviderKey.METLOOM with collection SNOTEL: \n",
      "id: SNOTEL\n",
      "assets:\n",
      "- SWE\n",
      "- AIR TEMP\n",
      "outdir: data/snotel_land_cover_north_america\n",
      "datetime: 2017-04-01/2021-04-23\n",
      "aoi_file: config/aoi/demo_landcover.json\n",
      "max_items: 1\n",
      "\u001b[0m\n",
      "\u001b[34m17:56:14\u001b[0m \u001b[33mINFO\u001b[0m - \u001b[1mExtracting assets '[SensorDescription(code='WTEQ', name='SWE', description=None, accumulated=False), SensorDescription(code='TOBS', name='AIR TEMP', description=None, accumulated=False)]' for SNOTEL\u001b[0m\n"
     ]
    },
    {
     "name": "stdout",
     "output_type": "stream",
     "text": [
      "default_collection:\n",
      "  id: null\n",
      "  assets: null\n",
      "  outdir: null\n",
      "  datetime: null\n",
      "  aoi_file: null\n",
      "  max_items: -1\n",
      "providers:\n",
      "- id: METLOOM\n",
      "  kwargs: {}\n",
      "  collections:\n",
      "  - id: SNOTEL\n",
      "    assets:\n",
      "    - SWE\n",
      "    - AIR TEMP\n",
      "    outdir: data/snotel_land_cover_north_america\n",
      "    datetime: 2017-04-01/2021-04-23\n",
      "    aoi_file: config/aoi/demo_landcover.json\n",
      "    max_items: 3\n",
      "system:\n",
      "  log_outdir: ./logs\n",
      "  log_level: INFO\n",
      "  dry_run: false\n",
      "  max_concurrent_extractions: 10\n",
      "  max_download_attempts: 3\n",
      "  remove_existing_if_wrong_size: true\n",
      "  query_asset_sizes: false\n",
      "run_id: ''\n",
      "\n"
     ]
    },
    {
     "data": {
      "application/json": {
       "ascii": false,
       "bar_format": null,
       "colour": null,
       "elapsed": 0.026522159576416016,
       "initial": 0,
       "n": 0,
       "ncols": null,
       "nrows": null,
       "postfix": null,
       "prefix": "",
       "rate": null,
       "total": 8,
       "unit": "it",
       "unit_divisor": 1000,
       "unit_scale": false
      },
      "application/vnd.jupyter.widget-view+json": {
       "model_id": "1125e590cef245cd8542f2bb68fa7982",
       "version_major": 2,
       "version_minor": 0
      },
      "text/plain": [
       "  0%|          | 0/8 [00:00<?, ?it/s]"
      ]
     },
     "metadata": {},
     "output_type": "display_data"
    },
    {
     "name": "stderr",
     "output_type": "stream",
     "text": [
      "\u001b[34m17:56:17\u001b[0m \u001b[33mINFO\u001b[0m - \u001b[1mRegion to items took 0.0549 minutes\u001b[0m\n"
     ]
    },
    {
     "data": {
      "application/json": {
       "ascii": false,
       "bar_format": null,
       "colour": null,
       "elapsed": 0.02337789535522461,
       "initial": 0,
       "n": 0,
       "ncols": null,
       "nrows": null,
       "postfix": null,
       "prefix": "",
       "rate": null,
       "total": 1,
       "unit": "it",
       "unit_divisor": 1000,
       "unit_scale": false
      },
      "application/vnd.jupyter.widget-view+json": {
       "model_id": "d6a19a9a6860478ba68e22e84806fd1c",
       "version_major": 2,
       "version_minor": 0
      },
      "text/plain": [
       "  0%|          | 0/1 [00:00<?, ?it/s]"
      ]
     },
     "metadata": {},
     "output_type": "display_data"
    },
    {
     "name": "stderr",
     "output_type": "stream",
     "text": [
      "\u001b[34m17:56:21\u001b[0m \u001b[33mINFO\u001b[0m - \u001b[1mDownloading data took 0.1263 minutes\u001b[0m\n"
     ]
    },
    {
     "name": "stdout",
     "output_type": "stream",
     "text": [
      "1\n",
      "[                                                                       geometry  \\\n",
      "datetime                  site                                                    \n",
      "2017-04-01 08:00:00+00:00 428:CA:SNTL  POINT Z (-120.36807 39.32565 6894.00000)   \n",
      "2017-04-02 08:00:00+00:00 428:CA:SNTL  POINT Z (-120.36807 39.32565 6894.00000)   \n",
      "2017-04-03 08:00:00+00:00 428:CA:SNTL  POINT Z (-120.36807 39.32565 6894.00000)   \n",
      "2017-04-04 08:00:00+00:00 428:CA:SNTL  POINT Z (-120.36807 39.32565 6894.00000)   \n",
      "2017-04-05 08:00:00+00:00 428:CA:SNTL  POINT Z (-120.36807 39.32565 6894.00000)   \n",
      "...                                                                         ...   \n",
      "2021-04-19 08:00:00+00:00 428:CA:SNTL  POINT Z (-120.36807 39.32565 6894.00000)   \n",
      "2021-04-20 08:00:00+00:00 428:CA:SNTL  POINT Z (-120.36807 39.32565 6894.00000)   \n",
      "2021-04-21 08:00:00+00:00 428:CA:SNTL  POINT Z (-120.36807 39.32565 6894.00000)   \n",
      "2021-04-22 08:00:00+00:00 428:CA:SNTL  POINT Z (-120.36807 39.32565 6894.00000)   \n",
      "2021-04-23 08:00:00+00:00 428:CA:SNTL  POINT Z (-120.36807 39.32565 6894.00000)   \n",
      "\n",
      "                                        SWE SWE_units  AIR TEMP  \\\n",
      "datetime                  site                                    \n",
      "2017-04-01 08:00:00+00:00 428:CA:SNTL  66.9        in     37.58   \n",
      "2017-04-02 08:00:00+00:00 428:CA:SNTL  67.0        in     36.86   \n",
      "2017-04-03 08:00:00+00:00 428:CA:SNTL  66.6        in     31.46   \n",
      "2017-04-04 08:00:00+00:00 428:CA:SNTL  65.5        in     30.92   \n",
      "2017-04-05 08:00:00+00:00 428:CA:SNTL  64.8        in     37.04   \n",
      "...                                     ...       ...       ...   \n",
      "2021-04-19 08:00:00+00:00 428:CA:SNTL  11.2        in     36.32   \n",
      "2021-04-20 08:00:00+00:00 428:CA:SNTL  10.1        in     35.78   \n",
      "2021-04-21 08:00:00+00:00 428:CA:SNTL   8.9        in     39.02   \n",
      "2021-04-22 08:00:00+00:00 428:CA:SNTL   7.5        in     34.70   \n",
      "2021-04-23 08:00:00+00:00 428:CA:SNTL   6.6        in     33.80   \n",
      "\n",
      "                                      AIR TEMP_units datasource  \n",
      "datetime                  site                                   \n",
      "2017-04-01 08:00:00+00:00 428:CA:SNTL           degF       NRCS  \n",
      "2017-04-02 08:00:00+00:00 428:CA:SNTL           degF       NRCS  \n",
      "2017-04-03 08:00:00+00:00 428:CA:SNTL           degF       NRCS  \n",
      "2017-04-04 08:00:00+00:00 428:CA:SNTL           degF       NRCS  \n",
      "2017-04-05 08:00:00+00:00 428:CA:SNTL           degF       NRCS  \n",
      "...                                              ...        ...  \n",
      "2021-04-19 08:00:00+00:00 428:CA:SNTL           degF       NRCS  \n",
      "2021-04-20 08:00:00+00:00 428:CA:SNTL           degF       NRCS  \n",
      "2021-04-21 08:00:00+00:00 428:CA:SNTL           degF       NRCS  \n",
      "2021-04-22 08:00:00+00:00 428:CA:SNTL           degF       NRCS  \n",
      "2021-04-23 08:00:00+00:00 428:CA:SNTL           degF       NRCS  \n",
      "\n",
      "[1484 rows x 6 columns]]\n",
      "                                                                       geometry  \\\n",
      "datetime                  site                                                    \n",
      "2017-04-01 08:00:00+00:00 428:CA:SNTL  POINT Z (-120.36807 39.32565 6894.00000)   \n",
      "2017-04-02 08:00:00+00:00 428:CA:SNTL  POINT Z (-120.36807 39.32565 6894.00000)   \n",
      "2017-04-03 08:00:00+00:00 428:CA:SNTL  POINT Z (-120.36807 39.32565 6894.00000)   \n",
      "2017-04-04 08:00:00+00:00 428:CA:SNTL  POINT Z (-120.36807 39.32565 6894.00000)   \n",
      "2017-04-05 08:00:00+00:00 428:CA:SNTL  POINT Z (-120.36807 39.32565 6894.00000)   \n",
      "...                                                                         ...   \n",
      "2021-04-19 08:00:00+00:00 428:CA:SNTL  POINT Z (-120.36807 39.32565 6894.00000)   \n",
      "2021-04-20 08:00:00+00:00 428:CA:SNTL  POINT Z (-120.36807 39.32565 6894.00000)   \n",
      "2021-04-21 08:00:00+00:00 428:CA:SNTL  POINT Z (-120.36807 39.32565 6894.00000)   \n",
      "2021-04-22 08:00:00+00:00 428:CA:SNTL  POINT Z (-120.36807 39.32565 6894.00000)   \n",
      "2021-04-23 08:00:00+00:00 428:CA:SNTL  POINT Z (-120.36807 39.32565 6894.00000)   \n",
      "\n",
      "                                        SWE SWE_units  AIR TEMP  \\\n",
      "datetime                  site                                    \n",
      "2017-04-01 08:00:00+00:00 428:CA:SNTL  66.9        in     37.58   \n",
      "2017-04-02 08:00:00+00:00 428:CA:SNTL  67.0        in     36.86   \n",
      "2017-04-03 08:00:00+00:00 428:CA:SNTL  66.6        in     31.46   \n",
      "2017-04-04 08:00:00+00:00 428:CA:SNTL  65.5        in     30.92   \n",
      "2017-04-05 08:00:00+00:00 428:CA:SNTL  64.8        in     37.04   \n",
      "...                                     ...       ...       ...   \n",
      "2021-04-19 08:00:00+00:00 428:CA:SNTL  11.2        in     36.32   \n",
      "2021-04-20 08:00:00+00:00 428:CA:SNTL  10.1        in     35.78   \n",
      "2021-04-21 08:00:00+00:00 428:CA:SNTL   8.9        in     39.02   \n",
      "2021-04-22 08:00:00+00:00 428:CA:SNTL   7.5        in     34.70   \n",
      "2021-04-23 08:00:00+00:00 428:CA:SNTL   6.6        in     33.80   \n",
      "\n",
      "                                      AIR TEMP_units datasource  \n",
      "datetime                  site                                   \n",
      "2017-04-01 08:00:00+00:00 428:CA:SNTL           degF       NRCS  \n",
      "2017-04-02 08:00:00+00:00 428:CA:SNTL           degF       NRCS  \n",
      "2017-04-03 08:00:00+00:00 428:CA:SNTL           degF       NRCS  \n",
      "2017-04-04 08:00:00+00:00 428:CA:SNTL           degF       NRCS  \n",
      "2017-04-05 08:00:00+00:00 428:CA:SNTL           degF       NRCS  \n",
      "...                                              ...        ...  \n",
      "2021-04-19 08:00:00+00:00 428:CA:SNTL           degF       NRCS  \n",
      "2021-04-20 08:00:00+00:00 428:CA:SNTL           degF       NRCS  \n",
      "2021-04-21 08:00:00+00:00 428:CA:SNTL           degF       NRCS  \n",
      "2021-04-22 08:00:00+00:00 428:CA:SNTL           degF       NRCS  \n",
      "2021-04-23 08:00:00+00:00 428:CA:SNTL           degF       NRCS  \n",
      "\n",
      "[1484 rows x 6 columns]\n",
      "Successfully extracted assets.\n"
     ]
    }
   ],
   "source": [
    "from omegaconf import OmegaConf\n",
    "from multiearth.api import extract_assets\n",
    "from multiearth.config import ConfigSchema\n",
    "\n",
    "cfg = OmegaConf.load(\"config/metloom.yaml\")\n",
    "cfg_schema = OmegaConf.structured(ConfigSchema)\n",
    "cfg = OmegaConf.merge(cfg_schema, cfg)\n",
    "\n",
    "print(OmegaConf.to_yaml(cfg))\n",
    "\n",
    "# Constrain the test to only pull one item\n",
    "for pvdr in cfg.providers:\n",
    "    for coll in pvdr.collections:\n",
    "        coll.max_items = 1\n",
    "cfg.system.dry_run = False\n",
    "\n",
    "success = extract_assets(cfg)\n",
    "print(\"Successfully extracted assets.\" if success else \"Asset extraction failed.\")"
   ]
  },
  {
   "cell_type": "markdown",
   "metadata": {},
   "source": [
    "We\"ve extracted assets from a single station in this notebook. Note that max_items refers to the maximum number of stations queried."
   ]
  },
  {
   "cell_type": "code",
   "execution_count": 4,
   "metadata": {},
   "outputs": [],
   "source": [
    "fpath = str(Path(cfg[\"providers\"][0][\"collections\"][0][\"outdir\"]))\n",
    "files = list(glob.glob(fpath + \"/*csv\"))\n",
    "\n",
    "# We know there is only one provider pulled, assert\n",
    "assert (\n",
    "    len(files) == 1\n",
    "), f\"There were {len(files)} files pulled. `max_items: 1` failed to constrain.\"\n",
    "\n",
    "file_path = files[0]\n",
    "df = pd.read_csv(file_path)\n",
    "time_var = \"datetime\"\n",
    "df[time_var] = pd.to_datetime(df[time_var]).copy()\n",
    "\n",
    "# We know there is only one station pulled, assert\n",
    "assert (\n",
    "    len(df.groupby(\"geometry\", as_index=False)) == 1\n",
    "), f\"There were {len(df.groupby('geometry', as_index=False))} station records pulled. `max_items: 1` failed to constrain.\""
   ]
  },
  {
   "cell_type": "code",
   "execution_count": 5,
   "metadata": {},
   "outputs": [
    {
     "data": {
      "text/html": [
       "<div>\n",
       "<style scoped>\n",
       "    .dataframe tbody tr th:only-of-type {\n",
       "        vertical-align: middle;\n",
       "    }\n",
       "\n",
       "    .dataframe tbody tr th {\n",
       "        vertical-align: top;\n",
       "    }\n",
       "\n",
       "    .dataframe thead th {\n",
       "        text-align: right;\n",
       "    }\n",
       "</style>\n",
       "<table border=\"1\" class=\"dataframe\">\n",
       "  <thead>\n",
       "    <tr style=\"text-align: right;\">\n",
       "      <th></th>\n",
       "      <th>datetime</th>\n",
       "      <th>site</th>\n",
       "      <th>geometry</th>\n",
       "      <th>SWE</th>\n",
       "      <th>SWE_units</th>\n",
       "      <th>AIR TEMP</th>\n",
       "      <th>AIR TEMP_units</th>\n",
       "      <th>datasource</th>\n",
       "    </tr>\n",
       "  </thead>\n",
       "  <tbody>\n",
       "    <tr>\n",
       "      <th>0</th>\n",
       "      <td>2017-04-01 08:00:00+00:00</td>\n",
       "      <td>428:CA:SNTL</td>\n",
       "      <td>POINT Z (-120.36807 39.32565 6894)</td>\n",
       "      <td>66.9</td>\n",
       "      <td>in</td>\n",
       "      <td>37.58</td>\n",
       "      <td>degF</td>\n",
       "      <td>NRCS</td>\n",
       "    </tr>\n",
       "    <tr>\n",
       "      <th>1</th>\n",
       "      <td>2017-04-02 08:00:00+00:00</td>\n",
       "      <td>428:CA:SNTL</td>\n",
       "      <td>POINT Z (-120.36807 39.32565 6894)</td>\n",
       "      <td>67.0</td>\n",
       "      <td>in</td>\n",
       "      <td>36.86</td>\n",
       "      <td>degF</td>\n",
       "      <td>NRCS</td>\n",
       "    </tr>\n",
       "    <tr>\n",
       "      <th>2</th>\n",
       "      <td>2017-04-03 08:00:00+00:00</td>\n",
       "      <td>428:CA:SNTL</td>\n",
       "      <td>POINT Z (-120.36807 39.32565 6894)</td>\n",
       "      <td>66.6</td>\n",
       "      <td>in</td>\n",
       "      <td>31.46</td>\n",
       "      <td>degF</td>\n",
       "      <td>NRCS</td>\n",
       "    </tr>\n",
       "    <tr>\n",
       "      <th>3</th>\n",
       "      <td>2017-04-04 08:00:00+00:00</td>\n",
       "      <td>428:CA:SNTL</td>\n",
       "      <td>POINT Z (-120.36807 39.32565 6894)</td>\n",
       "      <td>65.5</td>\n",
       "      <td>in</td>\n",
       "      <td>30.92</td>\n",
       "      <td>degF</td>\n",
       "      <td>NRCS</td>\n",
       "    </tr>\n",
       "    <tr>\n",
       "      <th>4</th>\n",
       "      <td>2017-04-05 08:00:00+00:00</td>\n",
       "      <td>428:CA:SNTL</td>\n",
       "      <td>POINT Z (-120.36807 39.32565 6894)</td>\n",
       "      <td>64.8</td>\n",
       "      <td>in</td>\n",
       "      <td>37.04</td>\n",
       "      <td>degF</td>\n",
       "      <td>NRCS</td>\n",
       "    </tr>\n",
       "  </tbody>\n",
       "</table>\n",
       "</div>"
      ],
      "text/plain": [
       "                   datetime         site                            geometry  \\\n",
       "0 2017-04-01 08:00:00+00:00  428:CA:SNTL  POINT Z (-120.36807 39.32565 6894)   \n",
       "1 2017-04-02 08:00:00+00:00  428:CA:SNTL  POINT Z (-120.36807 39.32565 6894)   \n",
       "2 2017-04-03 08:00:00+00:00  428:CA:SNTL  POINT Z (-120.36807 39.32565 6894)   \n",
       "3 2017-04-04 08:00:00+00:00  428:CA:SNTL  POINT Z (-120.36807 39.32565 6894)   \n",
       "4 2017-04-05 08:00:00+00:00  428:CA:SNTL  POINT Z (-120.36807 39.32565 6894)   \n",
       "\n",
       "    SWE SWE_units  AIR TEMP AIR TEMP_units datasource  \n",
       "0  66.9        in     37.58           degF       NRCS  \n",
       "1  67.0        in     36.86           degF       NRCS  \n",
       "2  66.6        in     31.46           degF       NRCS  \n",
       "3  65.5        in     30.92           degF       NRCS  \n",
       "4  64.8        in     37.04           degF       NRCS  "
      ]
     },
     "execution_count": 5,
     "metadata": {},
     "output_type": "execute_result"
    }
   ],
   "source": [
    "df.head()"
   ]
  },
  {
   "cell_type": "markdown",
   "metadata": {},
   "source": [
    "Let\"s select a time window across January 2020 to plot the SWE and Air Temperature across."
   ]
  },
  {
   "cell_type": "code",
   "execution_count": 6,
   "metadata": {},
   "outputs": [
    {
     "data": {
      "text/html": [
       "<div>\n",
       "<style scoped>\n",
       "    .dataframe tbody tr th:only-of-type {\n",
       "        vertical-align: middle;\n",
       "    }\n",
       "\n",
       "    .dataframe tbody tr th {\n",
       "        vertical-align: top;\n",
       "    }\n",
       "\n",
       "    .dataframe thead th {\n",
       "        text-align: right;\n",
       "    }\n",
       "</style>\n",
       "<table border=\"1\" class=\"dataframe\">\n",
       "  <thead>\n",
       "    <tr style=\"text-align: right;\">\n",
       "      <th></th>\n",
       "      <th>datetime</th>\n",
       "      <th>site</th>\n",
       "      <th>geometry</th>\n",
       "      <th>SWE</th>\n",
       "      <th>SWE_units</th>\n",
       "      <th>AIR TEMP</th>\n",
       "      <th>AIR TEMP_units</th>\n",
       "      <th>datasource</th>\n",
       "    </tr>\n",
       "  </thead>\n",
       "  <tbody>\n",
       "    <tr>\n",
       "      <th>1005</th>\n",
       "      <td>2020-01-01</td>\n",
       "      <td>428:CA:SNTL</td>\n",
       "      <td>POINT Z (-120.36807 39.32565 6894)</td>\n",
       "      <td>12.7</td>\n",
       "      <td>in</td>\n",
       "      <td>31.28</td>\n",
       "      <td>degF</td>\n",
       "      <td>NRCS</td>\n",
       "    </tr>\n",
       "    <tr>\n",
       "      <th>1006</th>\n",
       "      <td>2020-01-02</td>\n",
       "      <td>428:CA:SNTL</td>\n",
       "      <td>POINT Z (-120.36807 39.32565 6894)</td>\n",
       "      <td>12.7</td>\n",
       "      <td>in</td>\n",
       "      <td>26.78</td>\n",
       "      <td>degF</td>\n",
       "      <td>NRCS</td>\n",
       "    </tr>\n",
       "    <tr>\n",
       "      <th>1007</th>\n",
       "      <td>2020-01-03</td>\n",
       "      <td>428:CA:SNTL</td>\n",
       "      <td>POINT Z (-120.36807 39.32565 6894)</td>\n",
       "      <td>12.7</td>\n",
       "      <td>in</td>\n",
       "      <td>37.04</td>\n",
       "      <td>degF</td>\n",
       "      <td>NRCS</td>\n",
       "    </tr>\n",
       "    <tr>\n",
       "      <th>1008</th>\n",
       "      <td>2020-01-04</td>\n",
       "      <td>428:CA:SNTL</td>\n",
       "      <td>POINT Z (-120.36807 39.32565 6894)</td>\n",
       "      <td>12.7</td>\n",
       "      <td>in</td>\n",
       "      <td>38.66</td>\n",
       "      <td>degF</td>\n",
       "      <td>NRCS</td>\n",
       "    </tr>\n",
       "    <tr>\n",
       "      <th>1009</th>\n",
       "      <td>2020-01-05</td>\n",
       "      <td>428:CA:SNTL</td>\n",
       "      <td>POINT Z (-120.36807 39.32565 6894)</td>\n",
       "      <td>12.8</td>\n",
       "      <td>in</td>\n",
       "      <td>31.82</td>\n",
       "      <td>degF</td>\n",
       "      <td>NRCS</td>\n",
       "    </tr>\n",
       "  </tbody>\n",
       "</table>\n",
       "</div>"
      ],
      "text/plain": [
       "        datetime         site                            geometry   SWE  \\\n",
       "1005  2020-01-01  428:CA:SNTL  POINT Z (-120.36807 39.32565 6894)  12.7   \n",
       "1006  2020-01-02  428:CA:SNTL  POINT Z (-120.36807 39.32565 6894)  12.7   \n",
       "1007  2020-01-03  428:CA:SNTL  POINT Z (-120.36807 39.32565 6894)  12.7   \n",
       "1008  2020-01-04  428:CA:SNTL  POINT Z (-120.36807 39.32565 6894)  12.7   \n",
       "1009  2020-01-05  428:CA:SNTL  POINT Z (-120.36807 39.32565 6894)  12.8   \n",
       "\n",
       "     SWE_units  AIR TEMP AIR TEMP_units datasource  \n",
       "1005        in     31.28           degF       NRCS  \n",
       "1006        in     26.78           degF       NRCS  \n",
       "1007        in     37.04           degF       NRCS  \n",
       "1008        in     38.66           degF       NRCS  \n",
       "1009        in     31.82           degF       NRCS  "
      ]
     },
     "execution_count": 6,
     "metadata": {},
     "output_type": "execute_result"
    }
   ],
   "source": [
    "start_date = \"2020-01-01\"\n",
    "end_date = \"2020-01-31\"\n",
    "window_df = df[(df[time_var] > start_date) & (df[time_var] < end_date)].copy()\n",
    "window_df.loc[:, time_var] = window_df.loc[:, time_var].dt.date\n",
    "window_df.head()"
   ]
  },
  {
   "cell_type": "code",
   "execution_count": 7,
   "metadata": {},
   "outputs": [
    {
     "data": {
      "text/plain": [
       "Text(0.5, 0.98, 'SWE and Air Temp from 2020-01-01 to 2020-01-31')"
      ]
     },
     "execution_count": 7,
     "metadata": {},
     "output_type": "execute_result"
    },
    {
     "data": {
      "image/png": "[encoded data removed]",
      "text/plain": [
       "<Figure size 720x360 with 2 Axes>"
      ]
     },
     "metadata": {
      "needs_background": "light"
     },
     "output_type": "display_data"
    }
   ],
   "source": [
    "fig, axes = plt.subplots(1, 2, figsize=(10, 5))\n",
    "ax = axes[0]\n",
    "window_df.plot(\n",
    "    ax=ax,\n",
    "    y=\"SWE\",\n",
    "    x=time_var,\n",
    "    ylabel=\"SWE (in)\",\n",
    "    xlabel=\"Date\",\n",
    "    rot=45,\n",
    "    legend=None,\n",
    "    title=\"SWE\",\n",
    ")\n",
    "\n",
    "\n",
    "ax = axes[1]\n",
    "window_df.plot(\n",
    "    ax=ax,\n",
    "    y=\"AIR TEMP\",\n",
    "    x=time_var,\n",
    "    ylabel=\"Air Temp (deg F)\",\n",
    "    xlabel=\"Date\",\n",
    "    rot=45,\n",
    "    legend=None,\n",
    "    title=\"AIR TEMP\",\n",
    ")\n",
    "\n",
    "fig.suptitle(f\"SWE and Air Temp from {start_date} to {end_date}\")"
   ]
  },
  {
   "cell_type": "code",
   "execution_count": null,
   "metadata": {},
   "outputs": [],
   "source": []
  }
 ],
 "metadata": {
  "kernelspec": {
   "display_name": "Python 3.8.2 ('multiearth')",
   "language": "python",
   "name": "python3"
  },
  "language_info": {
   "codemirror_mode": {
    "name": "ipython",
    "version": 3
   },
   "file_extension": ".py",
   "mimetype": "text/x-python",
   "name": "python",
   "nbconvert_exporter": "python",
   "pygments_lexer": "ipython3",
   "version": "3.8.2"
  },
  "orig_nbformat": 4,
  "vscode": {
   "interpreter": {
    "hash": "3920dafa373898c2b38ca23ebadafd59a137dbdad2949830053e0f9b205dc05b"
   }
  }
 },
 "nbformat": 4,
 "nbformat_minor": 2
}
